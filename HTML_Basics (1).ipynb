{
  "nbformat": 4,
  "nbformat_minor": 0,
  "metadata": {
    "colab": {
      "provenance": []
    },
    "kernelspec": {
      "name": "python3",
      "display_name": "Python 3"
    },
    "language_info": {
      "name": "python"
    }
  },
  "cells": [
    {
      "cell_type": "markdown",
      "source": [
        "#HTML Basics\n"
      ],
      "metadata": {
        "id": "3cL4xRKRhegm"
      }
    },
    {
      "cell_type": "markdown",
      "source": [
        "Question 1 : Explain the basic structure of an HTML page.Why is it important to follow this structure?"
      ],
      "metadata": {
        "id": "JUEOLpZWhnSH"
      }
    },
    {
      "cell_type": "code",
      "source": [
        "#Basics HTML structure:\n",
        "\n",
        "<!DOCTYPE html>\n",
        "<html>\n",
        "<head>\n",
        "<meta charset=\"UTF-8\">\n",
        "<title>Page Title</title>\n",
        "</head>\n",
        "<body>\n",
        "<h1>Welcome to my Website</h1>\n",
        "<p>This is a Basic HTML page.\n",
        "</body>\n",
        "</html>\n",
        "\n",
        "\n"
      ],
      "metadata": {
        "id": "j4cFREyZi7PF"
      },
      "execution_count": null,
      "outputs": []
    },
    {
      "cell_type": "markdown",
      "source": [
        "**Importance of following this structure:**\n",
        "\n",
        "\n",
        "*   Ensure the browser compatibility\n",
        "*   improves SEO (search engine optimization)\n",
        "*   Makes code easier to maintain\n",
        "*   Helps in performance\n",
        "\n",
        "\n",
        "\n"
      ],
      "metadata": {
        "id": "BHRrw2rDkoWH"
      }
    },
    {
      "cell_type": "markdown",
      "source": [
        "Question 2: You’re building a small personal profile page. Which HTML tags will you\n",
        "use to highlight your name as a heading, describe yourself in a paragraph, and\n",
        "emphasize a key skill?\n",
        "\n",
        "Answer -> HTML Tags:\n",
        "Heading for your name:\n",
        "Use h1 ( Or any approprite heading tag like h2 to h6)\n"
      ],
      "metadata": {
        "id": "OxPKzoZqlgT_"
      }
    },
    {
      "cell_type": "code",
      "source": [
        "#html:\n",
        "\n",
        "<h1>Abhishek Umale</h1>\n",
        "<p>I am a passionate web developer who loves building user-friendly websites\n",
        " and learning new technologies.</p>\n",
        "<p>My key skill is <strong>JavaScript</strong>,\n",
        " which I use to build dynamic web apps.</p>\n"
      ],
      "metadata": {
        "id": "tRH25FBD-xJJ"
      },
      "execution_count": null,
      "outputs": []
    },
    {
      "cell_type": "markdown",
      "source": [
        "Question 3: Look at the code below. Can you find and fix the mistake?\n",
        "<!-- This is an HTML comment\n",
        "<h1>Welcome to my website</h1>\n"
      ],
      "metadata": {
        "id": "A61N3x1J_TVE"
      }
    },
    {
      "cell_type": "code",
      "source": [
        "#Correct Code\n",
        "\n",
        "<!-- This is an HTML comment -->\n",
        "<h1>Welcome to my website</h1>\n"
      ],
      "metadata": {
        "id": "HG9A8gH3_mBS"
      },
      "execution_count": null,
      "outputs": []
    },
    {
      "cell_type": "markdown",
      "source": [
        "Question 4: You’re creating a form that asks the user to enter their name, select their\n",
        "country from a list, and click a button to submit. Write the HTML code for this."
      ],
      "metadata": {
        "id": "c9rx1c4M_57k"
      }
    },
    {
      "cell_type": "code",
      "source": [
        "#html\n",
        "\n",
        "<!DOCTYPE html>\n",
        "<html>\n",
        "<head>\n",
        "<meta charset=\"UTF-8\">\n",
        "<title>Page Title</title>\n",
        "</head>\n",
        "<body>\n",
        "\n",
        "  <form>\n",
        "  <lable for=\"name\">Name:</lable>\n",
        "  <input type=\"text\" placeholder=\"Enter Your Name\" required>\n",
        "  <br><br>\n",
        "\n",
        "    <label for=\"country\">Country:</label>\n",
        "  <select id=\"country\" name=\"country\" required>\n",
        "    <option value=\"\">--Select your country--</option>\n",
        "    <option value=\"india\">India</option>\n",
        "    <option value=\"usa\">USA</option>\n",
        "    <option value=\"uk\">UK</option>\n",
        "    <option value=\"canada\">Canada</option>\n",
        "  </select>\n",
        "  <br><br>\n",
        "\n",
        "\n",
        "  <button type=\"submit\">Submit</button>\n",
        "  </form>\n",
        "</body>\n",
        "</html>"
      ],
      "metadata": {
        "id": "S1h1smIjAKq-"
      },
      "execution_count": null,
      "outputs": []
    },
    {
      "cell_type": "markdown",
      "source": [
        "Question 5: Write short HTML code to show your favorite fruits in a bulleted list and\n",
        "your top 3 programming languages in a numbered list"
      ],
      "metadata": {
        "id": "VftGxDNICN7z"
      }
    },
    {
      "cell_type": "code",
      "source": [
        "#html\n",
        "\n",
        "<!DOCTYPE html>\n",
        "<html>\n",
        "<head>\n",
        "<meta charset=\"UTF-8\">\n",
        "<title>Page Title</title>\n",
        "</head>\n",
        "<body>\n",
        "\n",
        "<!-- Unordered list for favorite fruits -->\n",
        "<h2>My Favorite Fruits</h2>\n",
        "<ul>\n",
        "  <li>Mango</li>\n",
        "  <li>Banana</li>\n",
        "  <li>Apple</li>\n",
        "</ul>\n",
        "\n",
        "<!-- Ordered list for top programming languages -->\n",
        "<h2>Top 3 Programming Languages</h2>\n",
        "<ol>\n",
        "  <li>JavaScript</li>\n",
        "  <li>Python</li>\n",
        "  <li>Java</li>\n",
        "</ol>\n",
        "\n",
        "</body>\n",
        "</html>\n"
      ],
      "metadata": {
        "id": "xo0ATaQGC2OQ"
      },
      "execution_count": null,
      "outputs": []
    },
    {
      "cell_type": "markdown",
      "source": [
        "Question 6: Ravi wants to leave a note in his HTML file so that only other developers\n",
        "can see it, not the users on the website. How should he do this? Why are such notes\n",
        "useful?\n"
      ],
      "metadata": {
        "id": "15FlbMv4DVVv"
      }
    },
    {
      "cell_type": "code",
      "source": [
        "\n",
        "\n",
        "<!-- TODO: Add contact form here later -->\n",
        "<h1>Welcome to Ravi's Website</h1>\n"
      ],
      "metadata": {
        "id": "lPySni2vDbbV"
      },
      "execution_count": null,
      "outputs": []
    },
    {
      "cell_type": "code",
      "source": [
        "'''\n",
        "Question 7: Here’s a form snippet. Can you spot the error and rewrite the correct\n",
        "version?\n",
        "<form>\n",
        " <input name=\"email\">\n",
        " <select>\n",
        " <option>India</option>\n",
        " </select>\n",
        " <button>Send</buton>\n",
        "</form>\n",
        "Answer:\n",
        "'''\n",
        "<form>\n",
        "  <input name=\"email\" type=\"email\" placeholder=\"Enter your email\" required>\n",
        "\n",
        "  <select name=\"country\" required>\n",
        "    <option value=\"\">--Select Country--</option>\n",
        "    <option value=\"india\">India</option>\n",
        "  </select>\n",
        "\n",
        "  <button type=\"submit\">Send</button>\n",
        "</form>\n",
        "\n"
      ],
      "metadata": {
        "id": "axlPLQ6eEk7k"
      },
      "execution_count": null,
      "outputs": []
    }
  ]
}